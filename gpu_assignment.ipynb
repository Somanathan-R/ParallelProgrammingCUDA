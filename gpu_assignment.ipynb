{
  "nbformat": 4,
  "nbformat_minor": 0,
  "metadata": {
    "colab": {
      "provenance": [],
      "gpuType": "T4",
      "authorship_tag": "ABX9TyMgUiJgRqDEisD4tnMOY9cH",
      "include_colab_link": true
    },
    "kernelspec": {
      "name": "python3",
      "display_name": "Python 3"
    },
    "language_info": {
      "name": "python"
    },
    "accelerator": "GPU"
  },
  "cells": [
    {
      "cell_type": "markdown",
      "metadata": {
        "id": "view-in-github",
        "colab_type": "text"
      },
      "source": [
        "<a href=\"https://colab.research.google.com/github/Somanathan-R/ParallelProgrammingCUDA/blob/main/gpu_assignment.ipynb\" target=\"_parent\"><img src=\"https://colab.research.google.com/assets/colab-badge.svg\" alt=\"Open In Colab\"/></a>"
      ]
    },
    {
      "cell_type": "markdown",
      "source": [
        "# GPU PROGRAMMING ASSIGNMENT\n",
        "# Name : Somanathan R\n",
        "# Reg no : RA2111028010038"
      ],
      "metadata": {
        "id": "5m4-n2m9BXPU"
      }
    },
    {
      "cell_type": "markdown",
      "source": [
        "**Q1. Update Directive in OpenACC**"
      ],
      "metadata": {
        "id": "PQF7KeAKByNy"
      }
    },
    {
      "cell_type": "code",
      "source": [
        "%%writefile update_directive_example.c\n",
        "\n",
        "#include <stdio.h>\n",
        "#include <stdlib.h>\n",
        "\n",
        "#define N 10\n",
        "\n",
        "int main() {\n",
        "    float *a;\n",
        "    int i;\n",
        "\n",
        "    // Allocate memory for array 'a' on the host (CPU)\n",
        "    a = (float *)malloc(N * sizeof(float));\n",
        "\n",
        "    // Initialize array 'a' on the device (GPU)\n",
        "    #pragma acc parallel loop\n",
        "    for (i = 0; i < N; i++) {\n",
        "        a[i] = i;\n",
        "    }\n",
        "\n",
        "    // Update array 'a' on the host with values from the device\n",
        "    #pragma acc update self(a)\n",
        "\n",
        "    // Print the updated array\n",
        "    printf(\"Array a after update:\\n\");\n",
        "    for (i = 0; i < N; i++) {\n",
        "        printf(\"%f\\n\", a[i]);\n",
        "    }\n",
        "\n",
        "    // Free allocated memory\n",
        "    free(a);\n",
        "\n",
        "    return 0;\n",
        "}\n"
      ],
      "metadata": {
        "colab": {
          "base_uri": "https://localhost:8080/",
          "height": 0
        },
        "id": "wMp2uFrf48Eh",
        "outputId": "30c1783b-d318-4f28-d342-1946ef4aae4a"
      },
      "execution_count": 4,
      "outputs": [
        {
          "output_type": "stream",
          "name": "stdout",
          "text": [
            "Overwriting update_directive_example.c\n"
          ]
        }
      ]
    },
    {
      "cell_type": "code",
      "source": [
        "!gcc -o update_directive_example -fopenacc update_directive_example.c\n",
        "!./update_directive_example\n"
      ],
      "metadata": {
        "colab": {
          "base_uri": "https://localhost:8080/",
          "height": 0
        },
        "id": "Mo6fhgjk4uWv",
        "outputId": "3d031caa-6246-46e1-8cc4-bc534a8b5ec0"
      },
      "execution_count": 5,
      "outputs": [
        {
          "output_type": "stream",
          "name": "stdout",
          "text": [
            "Array a after update:\n",
            "0.000000\n",
            "1.000000\n",
            "2.000000\n",
            "3.000000\n",
            "4.000000\n",
            "5.000000\n",
            "6.000000\n",
            "7.000000\n",
            "8.000000\n",
            "9.000000\n"
          ]
        }
      ]
    },
    {
      "cell_type": "markdown",
      "source": [
        "**Q2. Data directive in OpenACC**"
      ],
      "metadata": {
        "id": "r2vxuKHyCUfK"
      }
    },
    {
      "cell_type": "code",
      "source": [
        "%%writefile loop_optimization_example.c\n",
        "\n",
        "#include <stdio.h>\n",
        "#include <stdlib.h>\n",
        "\n",
        "#define N 10\n",
        "\n",
        "int main() {\n",
        "    float A[N][N], B[N][N], C[N][N];\n",
        "    int i, j;\n",
        "\n",
        "    // Initialize matrices A and B\n",
        "    printf(\"Matrix A:\\n\");\n",
        "    for (i = 0; i < N; i++) {\n",
        "        for (j = 0; j < N; j++) {\n",
        "            A[i][j] = i + j;\n",
        "            printf(\"%6.1f \", A[i][j]);\n",
        "        }\n",
        "        printf(\"\\n\");\n",
        "    }\n",
        "    printf(\"\\n\");\n",
        "\n",
        "    printf(\"Matrix B:\\n\");\n",
        "    for (i = 0; i < N; i++) {\n",
        "        for (j = 0; j < N; j++) {\n",
        "            B[i][j] = i - j;\n",
        "            printf(\"%6.1f \", B[i][j]);\n",
        "        }\n",
        "        printf(\"\\n\");\n",
        "    }\n",
        "    printf(\"\\n\");\n",
        "\n",
        "    // Compute element-wise addition of matrices A and B, storing the result in matrix C\n",
        "    #pragma acc parallel loop collapse(2)\n",
        "    for (i = 0; i < N; i++) {\n",
        "        for (j = 0; j < N; j++) {\n",
        "            C[i][j] = A[i][j] + B[i][j];\n",
        "        }\n",
        "    }\n",
        "\n",
        "    // Print a few elements of matrix C to verify the computation\n",
        "    printf(\"First few elements of matrix C:\\n\");\n",
        "    for (i = 0; i < 5 && i < N; i++) {\n",
        "        for (j = 0; j < 5 && j < N; j++) {\n",
        "            printf(\"%6.1f \", C[i][j]);\n",
        "        }\n",
        "        printf(\"\\n\");\n",
        "    }\n",
        "\n",
        "    return 0;\n",
        "}\n",
        "\n"
      ],
      "metadata": {
        "colab": {
          "base_uri": "https://localhost:8080/",
          "height": 0
        },
        "id": "yujyHUrN85An",
        "outputId": "a8587a9d-7af9-4a85-ee0e-235e77b0eb0a"
      },
      "execution_count": 11,
      "outputs": [
        {
          "output_type": "stream",
          "name": "stdout",
          "text": [
            "Overwriting loop_optimization_example.c\n"
          ]
        }
      ]
    },
    {
      "cell_type": "code",
      "source": [
        "!gcc -o loop_optimization_example -fopenacc loop_optimization_example.c\n",
        "!./loop_optimization_example\n"
      ],
      "metadata": {
        "colab": {
          "base_uri": "https://localhost:8080/",
          "height": 0
        },
        "id": "MSAebE-T89JC",
        "outputId": "5e343420-bb1e-462b-97fa-84916bf23065"
      },
      "execution_count": 12,
      "outputs": [
        {
          "output_type": "stream",
          "name": "stdout",
          "text": [
            "Matrix A:\n",
            "   0.0    1.0    2.0    3.0    4.0    5.0    6.0    7.0    8.0    9.0 \n",
            "   1.0    2.0    3.0    4.0    5.0    6.0    7.0    8.0    9.0   10.0 \n",
            "   2.0    3.0    4.0    5.0    6.0    7.0    8.0    9.0   10.0   11.0 \n",
            "   3.0    4.0    5.0    6.0    7.0    8.0    9.0   10.0   11.0   12.0 \n",
            "   4.0    5.0    6.0    7.0    8.0    9.0   10.0   11.0   12.0   13.0 \n",
            "   5.0    6.0    7.0    8.0    9.0   10.0   11.0   12.0   13.0   14.0 \n",
            "   6.0    7.0    8.0    9.0   10.0   11.0   12.0   13.0   14.0   15.0 \n",
            "   7.0    8.0    9.0   10.0   11.0   12.0   13.0   14.0   15.0   16.0 \n",
            "   8.0    9.0   10.0   11.0   12.0   13.0   14.0   15.0   16.0   17.0 \n",
            "   9.0   10.0   11.0   12.0   13.0   14.0   15.0   16.0   17.0   18.0 \n",
            "\n",
            "Matrix B:\n",
            "   0.0   -1.0   -2.0   -3.0   -4.0   -5.0   -6.0   -7.0   -8.0   -9.0 \n",
            "   1.0    0.0   -1.0   -2.0   -3.0   -4.0   -5.0   -6.0   -7.0   -8.0 \n",
            "   2.0    1.0    0.0   -1.0   -2.0   -3.0   -4.0   -5.0   -6.0   -7.0 \n",
            "   3.0    2.0    1.0    0.0   -1.0   -2.0   -3.0   -4.0   -5.0   -6.0 \n",
            "   4.0    3.0    2.0    1.0    0.0   -1.0   -2.0   -3.0   -4.0   -5.0 \n",
            "   5.0    4.0    3.0    2.0    1.0    0.0   -1.0   -2.0   -3.0   -4.0 \n",
            "   6.0    5.0    4.0    3.0    2.0    1.0    0.0   -1.0   -2.0   -3.0 \n",
            "   7.0    6.0    5.0    4.0    3.0    2.0    1.0    0.0   -1.0   -2.0 \n",
            "   8.0    7.0    6.0    5.0    4.0    3.0    2.0    1.0    0.0   -1.0 \n",
            "   9.0    8.0    7.0    6.0    5.0    4.0    3.0    2.0    1.0    0.0 \n",
            "\n",
            "First few elements of matrix C:\n",
            "   0.0    0.0    0.0    0.0    0.0 \n",
            "   2.0    2.0    2.0    2.0    2.0 \n",
            "   4.0    4.0    4.0    4.0    4.0 \n",
            "   6.0    6.0    6.0    6.0    6.0 \n",
            "   8.0    8.0    8.0    8.0    8.0 \n"
          ]
        }
      ]
    },
    {
      "cell_type": "markdown",
      "source": [
        "**Q4.Example of loop optimization clauses**"
      ],
      "metadata": {
        "id": "Y-Ojyx39CfEx"
      }
    },
    {
      "cell_type": "code",
      "source": [
        "%%writefile openacc_data_directive.c\n",
        "\n",
        "#include <stdio.h>\n",
        "#include <stdlib.h>\n",
        "\n",
        "#define N 10\n",
        "\n",
        "int main() {\n",
        "    float *a;\n",
        "    int i;\n",
        "\n",
        "    // Allocate memory for array 'a' on the host (CPU)\n",
        "    a = (float *)malloc(N * sizeof(float));\n",
        "\n",
        "    // Initialize array 'a' on the host\n",
        "    for (i = 0; i < N; i++) {\n",
        "        a[i] = i;\n",
        "    }\n",
        "\n",
        "    // Print the initial values of array 'a'\n",
        "    printf(\"Initial values of array a:\\n\");\n",
        "    for (i = 0; i < N; i++) {\n",
        "        printf(\"%6.1f \", a[i]);\n",
        "    }\n",
        "    printf(\"\\n\");\n",
        "\n",
        "    // Transfer array 'a' to the device (GPU)\n",
        "    #pragma acc enter data copyin(a[0:N])\n",
        "\n",
        "    // Perform some computations on the device (GPU)\n",
        "    #pragma acc parallel loop\n",
        "    for (i = 0; i < N; i++) {\n",
        "        a[i] *= 2;\n",
        "    }\n",
        "\n",
        "    // Transfer array 'a' back to the host (CPU)\n",
        "    #pragma acc exit data copyout(a[0:N])\n",
        "\n",
        "    // Print the updated values of array 'a'\n",
        "    printf(\"Updated values of array a after computation:\\n\");\n",
        "    for (i = 0; i < N; i++) {\n",
        "        printf(\"%6.1f \", a[i]);\n",
        "    }\n",
        "    printf(\"\\n\");\n",
        "\n",
        "    // Free allocated memory\n",
        "    free(a);\n",
        "\n",
        "    return 0;\n",
        "}\n"
      ],
      "metadata": {
        "colab": {
          "base_uri": "https://localhost:8080/",
          "height": 0
        },
        "id": "crrhNj1h_67O",
        "outputId": "c20bda58-52a6-4319-b420-43a7ab41963b"
      },
      "execution_count": 13,
      "outputs": [
        {
          "output_type": "stream",
          "name": "stdout",
          "text": [
            "Writing openacc_data_directive.c\n"
          ]
        }
      ]
    },
    {
      "cell_type": "code",
      "source": [
        "!gcc -o openacc_data_directive -fopenacc openacc_data_directive.c\n",
        "!./openacc_data_directive\n"
      ],
      "metadata": {
        "colab": {
          "base_uri": "https://localhost:8080/",
          "height": 0
        },
        "id": "dDABVLrlAOxS",
        "outputId": "640a2cdd-db50-4524-9b33-bb509718cd22"
      },
      "execution_count": 15,
      "outputs": [
        {
          "output_type": "stream",
          "name": "stdout",
          "text": [
            "Initial values of array a:\n",
            "   0.0    1.0    2.0    3.0    4.0    5.0    6.0    7.0    8.0    9.0 \n",
            "Updated values of array a after computation:\n",
            "   0.0    2.0    4.0    6.0    8.0   10.0   12.0   14.0   16.0   18.0 \n"
          ]
        }
      ]
    },
    {
      "cell_type": "markdown",
      "source": [
        "**Q3.Example of worker vector operations**"
      ],
      "metadata": {
        "id": "E4zoQu-cDD4z"
      }
    },
    {
      "cell_type": "code",
      "source": [
        "%%writefile openacc_worker_vector.c\n",
        "\n",
        "#include <stdio.h>\n",
        "\n",
        "#define N 100\n",
        "\n",
        "int main() {\n",
        "    float A[N], B[N], C[N];\n",
        "    int i;\n",
        "\n",
        "    // Initialize arrays A and B\n",
        "    for (i = 0; i < N; i++) {\n",
        "        A[i] = i;\n",
        "        B[i] = 2 * i;\n",
        "    }\n",
        "\n",
        "    // Perform element-wise addition of arrays A and B, storing the result in array C\n",
        "    #pragma acc parallel loop worker vector\n",
        "    for (i = 0; i < N; i++) {\n",
        "        C[i] = A[i] + B[i];\n",
        "    }\n",
        "\n",
        "    // Print the first few elements of array C\n",
        "    printf(\"First few elements of array C:\\n\");\n",
        "    for (i = 0; i < 5 && i < N; i++) {\n",
        "        printf(\"%6.1f \", C[i]);\n",
        "    }\n",
        "    printf(\"\\n\");\n",
        "\n",
        "    return 0;\n",
        "}\n"
      ],
      "metadata": {
        "colab": {
          "base_uri": "https://localhost:8080/",
          "height": 0
        },
        "id": "3IlZqYYqBAvD",
        "outputId": "247a5276-f1e0-43b3-c646-67f1c8e34809"
      },
      "execution_count": 16,
      "outputs": [
        {
          "output_type": "stream",
          "name": "stdout",
          "text": [
            "Writing openacc_worker_vector.c\n"
          ]
        }
      ]
    },
    {
      "cell_type": "code",
      "source": [
        "!gcc -o openacc_worker_vector -fopenacc openacc_worker_vector.c\n",
        "!./openacc_worker_vector\n"
      ],
      "metadata": {
        "colab": {
          "base_uri": "https://localhost:8080/",
          "height": 0
        },
        "id": "gapFDVk0BLoB",
        "outputId": "4606b51f-8d22-43b3-c58f-9e9028ec7b5f"
      },
      "execution_count": 17,
      "outputs": [
        {
          "output_type": "stream",
          "name": "stdout",
          "text": [
            "First few elements of array C:\n",
            "   0.0    3.0    6.0    9.0   12.0 \n"
          ]
        }
      ]
    }
  ]
}