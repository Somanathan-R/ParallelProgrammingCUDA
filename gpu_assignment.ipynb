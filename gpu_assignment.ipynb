{
  "nbformat": 4,
  "nbformat_minor": 0,
  "metadata": {
    "colab": {
      "provenance": [],
      "gpuType": "T4",
      "authorship_tag": "ABX9TyOXKBf8SZ4x41yE+Rq6McXW",
      "include_colab_link": true
    },
    "kernelspec": {
      "name": "python3",
      "display_name": "Python 3"
    },
    "language_info": {
      "name": "python"
    },
    "accelerator": "GPU"
  },
  "cells": [
    {
      "cell_type": "markdown",
      "metadata": {
        "id": "view-in-github",
        "colab_type": "text"
      },
      "source": [
        "<a href=\"https://colab.research.google.com/github/Somanathan-R/ParallelProgrammingCUDA/blob/main/gpu_assignment.ipynb\" target=\"_parent\"><img src=\"https://colab.research.google.com/assets/colab-badge.svg\" alt=\"Open In Colab\"/></a>"
      ]
    },
    {
      "cell_type": "code",
      "execution_count": 1,
      "metadata": {
        "colab": {
          "base_uri": "https://localhost:8080/",
          "height": 0
        },
        "id": "E3F8PNXw2Ncr",
        "outputId": "1841b956-1d93-49c4-b92c-a93d99f0d122"
      },
      "outputs": [
        {
          "output_type": "stream",
          "name": "stdout",
          "text": [
            "nvcc: NVIDIA (R) Cuda compiler driver\n",
            "Copyright (c) 2005-2023 NVIDIA Corporation\n",
            "Built on Tue_Aug_15_22:02:13_PDT_2023\n",
            "Cuda compilation tools, release 12.2, V12.2.140\n",
            "Build cuda_12.2.r12.2/compiler.33191640_0\n"
          ]
        }
      ],
      "source": [
        "!nvcc --version\n"
      ]
    },
    {
      "cell_type": "code",
      "source": [
        "%%writefile update_directive_example.c\n",
        "\n",
        "#include <stdio.h>\n",
        "#include <stdlib.h>\n",
        "\n",
        "#define N 10\n",
        "\n",
        "int main() {\n",
        "    float *a;\n",
        "    int i;\n",
        "\n",
        "    // Allocate memory for array 'a' on the host (CPU)\n",
        "    a = (float *)malloc(N * sizeof(float));\n",
        "\n",
        "    // Initialize array 'a' on the device (GPU)\n",
        "    #pragma acc parallel loop\n",
        "    for (i = 0; i < N; i++) {\n",
        "        a[i] = i;\n",
        "    }\n",
        "\n",
        "    // Update array 'a' on the host with values from the device\n",
        "    #pragma acc update self(a)\n",
        "\n",
        "    // Print the updated array\n",
        "    printf(\"Array a after update:\\n\");\n",
        "    for (i = 0; i < N; i++) {\n",
        "        printf(\"%f\\n\", a[i]);\n",
        "    }\n",
        "\n",
        "    // Free allocated memory\n",
        "    free(a);\n",
        "\n",
        "    return 0;\n",
        "}\n"
      ],
      "metadata": {
        "colab": {
          "base_uri": "https://localhost:8080/",
          "height": 0
        },
        "id": "wMp2uFrf48Eh",
        "outputId": "30c1783b-d318-4f28-d342-1946ef4aae4a"
      },
      "execution_count": 4,
      "outputs": [
        {
          "output_type": "stream",
          "name": "stdout",
          "text": [
            "Overwriting update_directive_example.c\n"
          ]
        }
      ]
    },
    {
      "cell_type": "code",
      "source": [
        "!gcc -o update_directive_example -fopenacc update_directive_example.c\n",
        "!./update_directive_example\n"
      ],
      "metadata": {
        "colab": {
          "base_uri": "https://localhost:8080/",
          "height": 0
        },
        "id": "Mo6fhgjk4uWv",
        "outputId": "3d031caa-6246-46e1-8cc4-bc534a8b5ec0"
      },
      "execution_count": 5,
      "outputs": [
        {
          "output_type": "stream",
          "name": "stdout",
          "text": [
            "Array a after update:\n",
            "0.000000\n",
            "1.000000\n",
            "2.000000\n",
            "3.000000\n",
            "4.000000\n",
            "5.000000\n",
            "6.000000\n",
            "7.000000\n",
            "8.000000\n",
            "9.000000\n"
          ]
        }
      ]
    },
    {
      "cell_type": "code",
      "source": [
        "%%writefile loop_optimization_example.c\n",
        "\n",
        "#include <stdio.h>\n",
        "#include <stdlib.h>\n",
        "\n",
        "#define N 10\n",
        "\n",
        "int main() {\n",
        "    float A[N][N], B[N][N], C[N][N];\n",
        "    int i, j;\n",
        "\n",
        "    // Initialize matrices A and B\n",
        "    printf(\"Matrix A:\\n\");\n",
        "    for (i = 0; i < N; i++) {\n",
        "        for (j = 0; j < N; j++) {\n",
        "            A[i][j] = i + j;\n",
        "            printf(\"%6.1f \", A[i][j]);\n",
        "        }\n",
        "        printf(\"\\n\");\n",
        "    }\n",
        "    printf(\"\\n\");\n",
        "\n",
        "    printf(\"Matrix B:\\n\");\n",
        "    for (i = 0; i < N; i++) {\n",
        "        for (j = 0; j < N; j++) {\n",
        "            B[i][j] = i - j;\n",
        "            printf(\"%6.1f \", B[i][j]);\n",
        "        }\n",
        "        printf(\"\\n\");\n",
        "    }\n",
        "    printf(\"\\n\");\n",
        "\n",
        "    // Compute element-wise addition of matrices A and B, storing the result in matrix C\n",
        "    #pragma acc parallel loop collapse(2)\n",
        "    for (i = 0; i < N; i++) {\n",
        "        for (j = 0; j < N; j++) {\n",
        "            C[i][j] = A[i][j] + B[i][j];\n",
        "        }\n",
        "    }\n",
        "\n",
        "    // Print a few elements of matrix C to verify the computation\n",
        "    printf(\"First few elements of matrix C:\\n\");\n",
        "    for (i = 0; i < 5 && i < N; i++) {\n",
        "        for (j = 0; j < 5 && j < N; j++) {\n",
        "            printf(\"%6.1f \", C[i][j]);\n",
        "        }\n",
        "        printf(\"\\n\");\n",
        "    }\n",
        "\n",
        "    return 0;\n",
        "}\n",
        "\n"
      ],
      "metadata": {
        "colab": {
          "base_uri": "https://localhost:8080/"
        },
        "id": "yujyHUrN85An",
        "outputId": "a8587a9d-7af9-4a85-ee0e-235e77b0eb0a"
      },
      "execution_count": 11,
      "outputs": [
        {
          "output_type": "stream",
          "name": "stdout",
          "text": [
            "Overwriting loop_optimization_example.c\n"
          ]
        }
      ]
    },
    {
      "cell_type": "code",
      "source": [
        "!gcc -o loop_optimization_example -fopenacc loop_optimization_example.c\n",
        "!./loop_optimization_example\n"
      ],
      "metadata": {
        "colab": {
          "base_uri": "https://localhost:8080/"
        },
        "id": "MSAebE-T89JC",
        "outputId": "5e343420-bb1e-462b-97fa-84916bf23065"
      },
      "execution_count": 12,
      "outputs": [
        {
          "output_type": "stream",
          "name": "stdout",
          "text": [
            "Matrix A:\n",
            "   0.0    1.0    2.0    3.0    4.0    5.0    6.0    7.0    8.0    9.0 \n",
            "   1.0    2.0    3.0    4.0    5.0    6.0    7.0    8.0    9.0   10.0 \n",
            "   2.0    3.0    4.0    5.0    6.0    7.0    8.0    9.0   10.0   11.0 \n",
            "   3.0    4.0    5.0    6.0    7.0    8.0    9.0   10.0   11.0   12.0 \n",
            "   4.0    5.0    6.0    7.0    8.0    9.0   10.0   11.0   12.0   13.0 \n",
            "   5.0    6.0    7.0    8.0    9.0   10.0   11.0   12.0   13.0   14.0 \n",
            "   6.0    7.0    8.0    9.0   10.0   11.0   12.0   13.0   14.0   15.0 \n",
            "   7.0    8.0    9.0   10.0   11.0   12.0   13.0   14.0   15.0   16.0 \n",
            "   8.0    9.0   10.0   11.0   12.0   13.0   14.0   15.0   16.0   17.0 \n",
            "   9.0   10.0   11.0   12.0   13.0   14.0   15.0   16.0   17.0   18.0 \n",
            "\n",
            "Matrix B:\n",
            "   0.0   -1.0   -2.0   -3.0   -4.0   -5.0   -6.0   -7.0   -8.0   -9.0 \n",
            "   1.0    0.0   -1.0   -2.0   -3.0   -4.0   -5.0   -6.0   -7.0   -8.0 \n",
            "   2.0    1.0    0.0   -1.0   -2.0   -3.0   -4.0   -5.0   -6.0   -7.0 \n",
            "   3.0    2.0    1.0    0.0   -1.0   -2.0   -3.0   -4.0   -5.0   -6.0 \n",
            "   4.0    3.0    2.0    1.0    0.0   -1.0   -2.0   -3.0   -4.0   -5.0 \n",
            "   5.0    4.0    3.0    2.0    1.0    0.0   -1.0   -2.0   -3.0   -4.0 \n",
            "   6.0    5.0    4.0    3.0    2.0    1.0    0.0   -1.0   -2.0   -3.0 \n",
            "   7.0    6.0    5.0    4.0    3.0    2.0    1.0    0.0   -1.0   -2.0 \n",
            "   8.0    7.0    6.0    5.0    4.0    3.0    2.0    1.0    0.0   -1.0 \n",
            "   9.0    8.0    7.0    6.0    5.0    4.0    3.0    2.0    1.0    0.0 \n",
            "\n",
            "First few elements of matrix C:\n",
            "   0.0    0.0    0.0    0.0    0.0 \n",
            "   2.0    2.0    2.0    2.0    2.0 \n",
            "   4.0    4.0    4.0    4.0    4.0 \n",
            "   6.0    6.0    6.0    6.0    6.0 \n",
            "   8.0    8.0    8.0    8.0    8.0 \n"
          ]
        }
      ]
    }
  ]
}